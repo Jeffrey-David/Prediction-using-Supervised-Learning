{
  "nbformat": 4,
  "nbformat_minor": 0,
  "metadata": {
    "colab": {
      "name": "Supervised Learning Prediction.ipynb",
      "provenance": [],
      "toc_visible": true
    },
    "kernelspec": {
      "name": "python3",
      "display_name": "Python 3"
    }
  },
  "cells": [
    {
      "cell_type": "markdown",
      "metadata": {
        "id": "roEkBmiC_NFo"
      },
      "source": [
        "# **Linear Regression Model**\r\n",
        "\r\n",
        "\r\n"
      ]
    },
    {
      "cell_type": "markdown",
      "metadata": {
        "id": "PZPqPI3rBDt0"
      },
      "source": [
        "## **Importing the Dataset**"
      ]
    },
    {
      "cell_type": "code",
      "metadata": {
        "colab": {
          "base_uri": "https://localhost:8080/",
          "height": 206
        },
        "id": "EXDpWZYF_HU4",
        "outputId": "32000cdf-1f76-4987-cea1-24beb526bb1d"
      },
      "source": [
        "import pandas as pd\r\n",
        "import numpy as np\r\n",
        "\r\n",
        "url = 'http://bit.ly/w-data'\r\n",
        "dataset = pd.read_csv(url)\r\n",
        "\r\n",
        "#Understand the imported dataset\r\n",
        "dataset.head()"
      ],
      "execution_count": null,
      "outputs": [
        {
          "output_type": "execute_result",
          "data": {
            "text/html": [
              "<div>\n",
              "<style scoped>\n",
              "    .dataframe tbody tr th:only-of-type {\n",
              "        vertical-align: middle;\n",
              "    }\n",
              "\n",
              "    .dataframe tbody tr th {\n",
              "        vertical-align: top;\n",
              "    }\n",
              "\n",
              "    .dataframe thead th {\n",
              "        text-align: right;\n",
              "    }\n",
              "</style>\n",
              "<table border=\"1\" class=\"dataframe\">\n",
              "  <thead>\n",
              "    <tr style=\"text-align: right;\">\n",
              "      <th></th>\n",
              "      <th>Hours</th>\n",
              "      <th>Scores</th>\n",
              "    </tr>\n",
              "  </thead>\n",
              "  <tbody>\n",
              "    <tr>\n",
              "      <th>0</th>\n",
              "      <td>2.5</td>\n",
              "      <td>21</td>\n",
              "    </tr>\n",
              "    <tr>\n",
              "      <th>1</th>\n",
              "      <td>5.1</td>\n",
              "      <td>47</td>\n",
              "    </tr>\n",
              "    <tr>\n",
              "      <th>2</th>\n",
              "      <td>3.2</td>\n",
              "      <td>27</td>\n",
              "    </tr>\n",
              "    <tr>\n",
              "      <th>3</th>\n",
              "      <td>8.5</td>\n",
              "      <td>75</td>\n",
              "    </tr>\n",
              "    <tr>\n",
              "      <th>4</th>\n",
              "      <td>3.5</td>\n",
              "      <td>30</td>\n",
              "    </tr>\n",
              "  </tbody>\n",
              "</table>\n",
              "</div>"
            ],
            "text/plain": [
              "   Hours  Scores\n",
              "0    2.5      21\n",
              "1    5.1      47\n",
              "2    3.2      27\n",
              "3    8.5      75\n",
              "4    3.5      30"
            ]
          },
          "metadata": {
            "tags": []
          },
          "execution_count": 2
        }
      ]
    },
    {
      "cell_type": "code",
      "metadata": {
        "colab": {
          "base_uri": "https://localhost:8080/"
        },
        "id": "h3ROmBoaC8B0",
        "outputId": "4a3d81ab-ebc1-40ff-f17c-dac25c5a9ff7"
      },
      "source": [
        "dataset.shape"
      ],
      "execution_count": null,
      "outputs": [
        {
          "output_type": "execute_result",
          "data": {
            "text/plain": [
              "(25, 2)"
            ]
          },
          "metadata": {
            "tags": []
          },
          "execution_count": 3
        }
      ]
    },
    {
      "cell_type": "code",
      "metadata": {
        "colab": {
          "base_uri": "https://localhost:8080/"
        },
        "id": "YHOQ54zwCFY8",
        "outputId": "d58ea0b9-03b4-4d61-88e2-6f441a42fd02"
      },
      "source": [
        "#Check for Missing Values\r\n",
        "dataset.isnull().sum()"
      ],
      "execution_count": null,
      "outputs": [
        {
          "output_type": "execute_result",
          "data": {
            "text/plain": [
              "Hours     0\n",
              "Scores    0\n",
              "dtype: int64"
            ]
          },
          "metadata": {
            "tags": []
          },
          "execution_count": 4
        }
      ]
    },
    {
      "cell_type": "markdown",
      "metadata": {
        "id": "ZFQ2ccJkG5TM"
      },
      "source": [
        "## **Plot the dataset to gain insight about it**"
      ]
    },
    {
      "cell_type": "code",
      "metadata": {
        "colab": {
          "base_uri": "https://localhost:8080/",
          "height": 313
        },
        "id": "nOOg07GGE6to",
        "outputId": "8ffcae0c-aa3b-4ac4-d887-f17f84777ee8"
      },
      "source": [
        "\r\n",
        "import matplotlib.pyplot as plt\r\n",
        "%matplotlib inline\r\n",
        "dataset.plot(x='Hours', y='Scores', style='.')\r\n",
        "plt.title('Hours vs Scores')\r\n",
        "plt.xlabel('Hours Studied')\r\n",
        "plt.ylabel(\"Percentage Scored\")"
      ],
      "execution_count": null,
      "outputs": [
        {
          "output_type": "execute_result",
          "data": {
            "text/plain": [
              "Text(0, 0.5, 'Percentage Scored')"
            ]
          },
          "metadata": {
            "tags": []
          },
          "execution_count": 5
        },
        {
          "output_type": "display_data",
          "data": {
            "image/png": "[encoded data removed]",
            "text/plain": [
              "<Figure size 432x288 with 1 Axes>"
            ]
          },
          "metadata": {
            "tags": [],
            "needs_background": "light"
          }
        }
      ]
    },
    {
      "cell_type": "markdown",
      "metadata": {
        "id": "srn784JaHpeA"
      },
      "source": [
        "From the graph we can understand that hours and scores are linearly dependent. And hen we will use Linear Regression."
      ]
    },
    {
      "cell_type": "markdown",
      "metadata": {
        "id": "fBV36owGH9JY"
      },
      "source": [
        "## **Splitting the data**"
      ]
    },
    {
      "cell_type": "code",
      "metadata": {
        "id": "mwKto6MMG2IE"
      },
      "source": [
        "#Splitting the Attributes and Labels\r\n",
        "X = dataset.iloc[:, :-1].values\r\n",
        "y = dataset['Scores']\r\n",
        "\r\n",
        "#Splitting the data into test and train\r\n",
        "from sklearn.model_selection import train_test_split  \r\n",
        "X_train, X_test, y_train, y_test = train_test_split(X, y, test_size=0.2, random_state=0)\r\n"
      ],
      "execution_count": null,
      "outputs": []
    },
    {
      "cell_type": "markdown",
      "metadata": {
        "id": "dtFOBkPC_ImI"
      },
      "source": [
        "## **Training the Linear Regression Model**"
      ]
    },
    {
      "cell_type": "code",
      "metadata": {
        "id": "cVnxod-7G2Gg",
        "colab": {
          "base_uri": "https://localhost:8080/"
        },
        "outputId": "1620a769-4242-42f6-c716-a8767c712137"
      },
      "source": [
        "#Training the Linear Regression model\r\n",
        "from sklearn.linear_model import LinearRegression  \r\n",
        "LR = LinearRegression()  \r\n",
        "LR.fit(X_train, y_train) "
      ],
      "execution_count": null,
      "outputs": [
        {
          "output_type": "execute_result",
          "data": {
            "text/plain": [
              "LinearRegression(copy_X=True, fit_intercept=True, n_jobs=None, normalize=False)"
            ]
          },
          "metadata": {
            "tags": []
          },
          "execution_count": 53
        }
      ]
    },
    {
      "cell_type": "code",
      "metadata": {
        "colab": {
          "base_uri": "https://localhost:8080/"
        },
        "id": "h9td56taip1s",
        "outputId": "83f0ac2f-d9ce-432b-e22f-4e85fa7e4bb2"
      },
      "source": [
        "#Evaluating the Model\r\n",
        "from sklearn.metrics import confusion_matrix\r\n",
        "y_pred = LR.predict(X_test)\r\n",
        "print(y_test,y_pred)\r\n",
        "#cm = confusion_matrix(y_test, y_pred)"
      ],
      "execution_count": null,
      "outputs": [
        {
          "output_type": "stream",
          "text": [
            "5     20\n",
            "2     27\n",
            "19    69\n",
            "16    30\n",
            "11    62\n",
            "Name: Scores, dtype: int64 [16.88414476 33.73226078 75.357018   26.79480124 60.49103328]\n"
          ],
          "name": "stdout"
        }
      ]
    },
    {
      "cell_type": "code",
      "metadata": {
        "colab": {
          "base_uri": "https://localhost:8080/"
        },
        "id": "7Qz3hBUYnnWA",
        "outputId": "6e0114d1-d346-4f61-8474-479659c86055"
      },
      "source": [
        "print(pd.DataFrame({'Actual': y_test, 'Predicted': y_pred}))"
      ],
      "execution_count": null,
      "outputs": [
        {
          "output_type": "stream",
          "text": [
            "    Actual  Predicted\n",
            "5       20  16.884145\n",
            "2       27  33.732261\n",
            "19      69  75.357018\n",
            "16      30  26.794801\n",
            "11      62  60.491033\n"
          ],
          "name": "stdout"
        }
      ]
    },
    {
      "cell_type": "code",
      "metadata": {
        "colab": {
          "base_uri": "https://localhost:8080/"
        },
        "id": "mAZ4SAu5n1Fs",
        "outputId": "0f6ec332-bff7-4c6a-f234-481c82585383"
      },
      "source": [
        "hours = [[9.25]]\r\n",
        "own_pred = LR.predict(hours)\r\n",
        "own_pred"
      ],
      "execution_count": null,
      "outputs": [
        {
          "output_type": "execute_result",
          "data": {
            "text/plain": [
              "array([93.69173249])"
            ]
          },
          "metadata": {
            "tags": []
          },
          "execution_count": 56
        }
      ]
    },
    {
      "cell_type": "code",
      "metadata": {
        "colab": {
          "base_uri": "https://localhost:8080/"
        },
        "id": "csqNY01ZusFA",
        "outputId": "027ff6d7-c65f-4b26-dc65-2241ea4344bd"
      },
      "source": [
        "from sklearn.metrics import mean_squared_error\r\n",
        "mean_squared_error(y_test, y_pred)"
      ],
      "execution_count": null,
      "outputs": [
        {
          "output_type": "execute_result",
          "data": {
            "text/plain": [
              "21.598769307217456"
            ]
          },
          "metadata": {
            "tags": []
          },
          "execution_count": 57
        }
      ]
    },
    {
      "cell_type": "code",
      "metadata": {
        "colab": {
          "base_uri": "https://localhost:8080/"
        },
        "id": "faZ5NNW4vLWk",
        "outputId": "36b9c119-17d0-4bdb-bc59-c6aa288bee27"
      },
      "source": [
        "from sklearn.metrics import mean_absolute_error  \r\n",
        "mean_absolute_error(y_test, y_pred)"
      ],
      "execution_count": null,
      "outputs": [
        {
          "output_type": "execute_result",
          "data": {
            "text/plain": [
              "4.183859899002982"
            ]
          },
          "metadata": {
            "tags": []
          },
          "execution_count": 58
        }
      ]
    }
  ]
}